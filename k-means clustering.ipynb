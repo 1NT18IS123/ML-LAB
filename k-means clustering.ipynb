{
 "cells": [
  {
   "cell_type": "code",
   "execution_count": 2,
   "id": "195df903",
   "metadata": {},
   "outputs": [],
   "source": [
    "import numpy as np"
   ]
  },
  {
   "cell_type": "code",
   "execution_count": 3,
   "id": "58a32fca",
   "metadata": {},
   "outputs": [],
   "source": [
    "import pandas as pd"
   ]
  },
  {
   "cell_type": "code",
   "execution_count": 4,
   "id": "8e8855db",
   "metadata": {},
   "outputs": [],
   "source": [
    "import matplotlib.pyplot as plt"
   ]
  },
  {
   "cell_type": "code",
   "execution_count": 5,
   "id": "c6d76ec5",
   "metadata": {},
   "outputs": [],
   "source": [
    "data=[[5.9,3.2],[4.6,2.9],[4.7,3.2],[5.5,4.2],[5.0,3.0],[4.9,3.1],[6.7,3.1],[5.1,3.8],[6.0,3.0]]"
   ]
  },
  {
   "cell_type": "code",
   "execution_count": 9,
   "id": "fa2ed093",
   "metadata": {},
   "outputs": [],
   "source": [
    "centroid1=[[6.2,3.2]]"
   ]
  },
  {
   "cell_type": "code",
   "execution_count": 10,
   "id": "cb603026",
   "metadata": {},
   "outputs": [],
   "source": [
    "centroid2=[[6.6,3.7]]"
   ]
  },
  {
   "cell_type": "code",
   "execution_count": 14,
   "id": "65ecd0a3",
   "metadata": {},
   "outputs": [],
   "source": [
    "centroid3=[[6.5,3.0]]"
   ]
  },
  {
   "cell_type": "code",
   "execution_count": 16,
   "id": "84e887a6",
   "metadata": {},
   "outputs": [],
   "source": [
    "def euc_dist(p1,p2):\n",
    "    return np.sqrt(np.square(p1[0]-p2[0])+np.square(p1[1]-p2[1]))"
   ]
  },
  {
   "cell_type": "code",
   "execution_count": 17,
   "id": "0ac669b7",
   "metadata": {},
   "outputs": [],
   "source": [
    "cluster1=[]\n",
    "cluster2=[]\n",
    "cluster3=[]"
   ]
  },
  {
   "cell_type": "code",
   "execution_count": 18,
   "id": "00d2bf55",
   "metadata": {},
   "outputs": [],
   "source": [
    "c1=[]\n",
    "c2=[]\n",
    "c3=[]"
   ]
  },
  {
   "cell_type": "code",
   "execution_count": 20,
   "id": "60455e82",
   "metadata": {},
   "outputs": [],
   "source": [
    "def clustering(centroid1,centroid2,centroid3):\n",
    "    dist=[0]*3\n",
    "    for i in data:\n",
    "        dist[0]=euc_dist(i,centroid1[0])\n",
    "        dist[1]=euc_dist(i,centroid2[0])\n",
    "        dist[2]=euc_dist(i,centroid3[0])\n",
    "        \n",
    "        closest=dist.index(min(dist))+1\n",
    "        if closest==1:\n",
    "            cluster1.append(i)\n",
    "        if closest==2:\n",
    "            cluster2.append(i)\n",
    "        if closest==3:\n",
    "            cluster3.append(i)\n",
    "            \n",
    "    c11=np.round(np.mean(cluster1,axis=0),2).tolist()\n",
    "    c22=np.round(np.mean(cluster2,axis=0),2).tolist()\n",
    "    c33=np.round(np.mean(cluster3,axis=0),2).tolist()\n",
    "    return c11,c22,c33"
   ]
  },
  {
   "cell_type": "code",
   "execution_count": 21,
   "id": "0bca44f9",
   "metadata": {},
   "outputs": [],
   "source": [
    "c1,c2,c3=clustering(centroid1,centroid2,centroid3)"
   ]
  },
  {
   "cell_type": "code",
   "execution_count": 22,
   "id": "8b8fc699",
   "metadata": {},
   "outputs": [
    {
     "name": "stdout",
     "output_type": "stream",
     "text": [
      "[[5.9, 3.2], [4.6, 2.9], [4.7, 3.2], [5.0, 3.0], [4.9, 3.1], [5.1, 3.8], [6.0, 3.0]]\n"
     ]
    }
   ],
   "source": [
    "print(cluster1)"
   ]
  },
  {
   "cell_type": "code",
   "execution_count": 23,
   "id": "d3557269",
   "metadata": {},
   "outputs": [
    {
     "name": "stdout",
     "output_type": "stream",
     "text": [
      "[5.17, 3.17] [5.5, 4.2] [6.7, 3.1]\n"
     ]
    }
   ],
   "source": [
    "print(c1,c2,c3)"
   ]
  },
  {
   "cell_type": "code",
   "execution_count": 25,
   "id": "11ca4365",
   "metadata": {},
   "outputs": [
    {
     "name": "stdout",
     "output_type": "stream",
     "text": [
      "in iteration  1 centroid1 = [5.17, 3.17] centroid2 = [5.5, 4.2] centroid3 = [6.7, 3.1]\n",
      "[[5.9, 3.2], [4.6, 2.9], [4.7, 3.2], [5.0, 3.0], [4.9, 3.1], [5.1, 3.8], [6.0, 3.0], [5.9, 3.2], [4.6, 2.9], [4.7, 3.2], [5.0, 3.0], [4.9, 3.1]]\n",
      "[[5.5, 4.2], [5.5, 4.2], [5.1, 3.8]]\n",
      "[[6.7, 3.1], [6.7, 3.1], [6.0, 3.0]]\n",
      "in iteration  2 centroid1 = [5.11, 3.13] centroid2 = [5.37, 4.07] centroid3 = [6.47, 3.07]\n",
      "[[4.6, 2.9], [4.7, 3.2], [5.0, 3.0], [4.9, 3.1]]\n",
      "[[5.5, 4.2], [5.1, 3.8]]\n",
      "[[5.9, 3.2], [6.7, 3.1], [6.0, 3.0]]\n",
      "in iteration  3 centroid1 = [4.8, 3.05] centroid2 = [5.3, 4.0] centroid3 = [6.2, 3.1]\n",
      "[[4.6, 2.9], [4.7, 3.2], [5.0, 3.0], [4.9, 3.1]]\n",
      "[[5.5, 4.2], [5.1, 3.8]]\n",
      "[[5.9, 3.2], [6.7, 3.1], [6.0, 3.0]]\n"
     ]
    }
   ],
   "source": [
    "c=1\n",
    "while c1!=centroid1[0] or c2!=centroid2[0] or c3!=centroid3[0]:\n",
    "    print(\"in iteration \" ,c, \"centroid1 =\",c1,\"centroid2 =\",c2,\"centroid3 =\",c3 )\n",
    "    centroid1[0]=c1\n",
    "    centroid2[0]=c2\n",
    "    centroid3[0]=c3\n",
    "    c1,c2,c3=clustering(centroid1,centroid2,centroid3)\n",
    "    print(cluster1)\n",
    "    print(cluster2)\n",
    "    print(cluster3)\n",
    "    cluster1=[]\n",
    "    cluster2=[]\n",
    "    cluster3=[]\n",
    "    c=c+1"
   ]
  },
  {
   "cell_type": "code",
   "execution_count": null,
   "id": "9b6f741d",
   "metadata": {},
   "outputs": [],
   "source": []
  }
 ],
 "metadata": {
  "kernelspec": {
   "display_name": "Python 3 (ipykernel)",
   "language": "python",
   "name": "python3"
  },
  "language_info": {
   "codemirror_mode": {
    "name": "ipython",
    "version": 3
   },
   "file_extension": ".py",
   "mimetype": "text/x-python",
   "name": "python",
   "nbconvert_exporter": "python",
   "pygments_lexer": "ipython3",
   "version": "3.9.7"
  }
 },
 "nbformat": 4,
 "nbformat_minor": 5
}
