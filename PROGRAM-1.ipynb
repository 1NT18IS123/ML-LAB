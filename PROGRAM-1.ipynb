{
 "cells": [
  {
   "cell_type": "code",
   "execution_count": 1,
   "id": "b428e828",
   "metadata": {},
   "outputs": [],
   "source": [
    "#MEAN\n"
   ]
  },
  {
   "cell_type": "code",
   "execution_count": 3,
   "id": "c8c1498d",
   "metadata": {},
   "outputs": [],
   "source": [
    "arr=[115.3,195.5,120.5,110.2,90.4,105.6,110.9,116.3,122.3,125.4]"
   ]
  },
  {
   "cell_type": "code",
   "execution_count": 4,
   "id": "178cba55",
   "metadata": {},
   "outputs": [],
   "source": [
    "def mean(arr):\n",
    "    n=len(arr)\n",
    "    s=0\n",
    "    for i in arr:\n",
    "        s=s+i\n",
    "    return s/n"
   ]
  },
  {
   "cell_type": "code",
   "execution_count": 5,
   "id": "6080b0df",
   "metadata": {},
   "outputs": [],
   "source": [
    "mean_value=mean(arr)"
   ]
  },
  {
   "cell_type": "code",
   "execution_count": 6,
   "id": "a694f6c2",
   "metadata": {},
   "outputs": [
    {
     "name": "stdout",
     "output_type": "stream",
     "text": [
      "121.24000000000001\n"
     ]
    }
   ],
   "source": [
    "print(mean_value)"
   ]
  },
  {
   "cell_type": "code",
   "execution_count": 7,
   "id": "618d3c33",
   "metadata": {},
   "outputs": [],
   "source": [
    "#MEDIAN"
   ]
  },
  {
   "cell_type": "code",
   "execution_count": 13,
   "id": "a3046d28",
   "metadata": {},
   "outputs": [],
   "source": [
    "def median1(arr):\n",
    "    arr.sort()\n",
    "    n=len(arr)\n",
    "    if n%2!=0:\n",
    "        return arr[n//2]\n",
    "\n",
    "    else:\n",
    "        return (arr[n//2]+arr[n//2-1])/2"
   ]
  },
  {
   "cell_type": "code",
   "execution_count": 14,
   "id": "c7050eba",
   "metadata": {},
   "outputs": [],
   "source": [
    "median_value=median1(arr)"
   ]
  },
  {
   "cell_type": "code",
   "execution_count": 16,
   "id": "5525a3df",
   "metadata": {},
   "outputs": [
    {
     "name": "stdout",
     "output_type": "stream",
     "text": [
      "115.8\n"
     ]
    }
   ],
   "source": [
    "print(median_value)"
   ]
  },
  {
   "cell_type": "code",
   "execution_count": 20,
   "id": "4fdfc0fe",
   "metadata": {},
   "outputs": [],
   "source": [
    "arr=[115.3,195.5,120.5,110.2,90.4,105.6,110.9,116.3,122.3,125.4]"
   ]
  },
  {
   "cell_type": "code",
   "execution_count": 21,
   "id": "438e724e",
   "metadata": {},
   "outputs": [],
   "source": [
    "#MODE"
   ]
  },
  {
   "cell_type": "code",
   "execution_count": 32,
   "id": "cee896a3",
   "metadata": {},
   "outputs": [],
   "source": [
    "import numpy as np"
   ]
  },
  {
   "cell_type": "code",
   "execution_count": 33,
   "id": "c0f699b5",
   "metadata": {},
   "outputs": [
    {
     "name": "stdout",
     "output_type": "stream",
     "text": [
      "115.3\n"
     ]
    }
   ],
   "source": [
    "dict={}\n",
    "for i in arr:\n",
    "    if i in dict:\n",
    "        dict[i]+=1\n",
    "    else:\n",
    "        dict[i]=1\n",
    "        \n",
    "ele=0\n",
    "maximum=0\n",
    "\n",
    "for key,value in dict.items():\n",
    "    if(value>maximum):\n",
    "        maximum=value\n",
    "        ele=key\n",
    "print(ele)"
   ]
  },
  {
   "cell_type": "code",
   "execution_count": 34,
   "id": "4daacb0b",
   "metadata": {},
   "outputs": [
    {
     "name": "stdout",
     "output_type": "stream",
     "text": [
      "{115.3: 1, 195.5: 1, 120.5: 1, 110.2: 1, 90.4: 1, 105.6: 1, 110.9: 1, 116.3: 1, 122.3: 1, 125.4: 1}\n"
     ]
    }
   ],
   "source": [
    "print(dict)"
   ]
  },
  {
   "cell_type": "code",
   "execution_count": 35,
   "id": "bcd6227a",
   "metadata": {},
   "outputs": [],
   "source": [
    "#STANDARD-DEVIATION"
   ]
  },
  {
   "cell_type": "code",
   "execution_count": 36,
   "id": "cc7ca886",
   "metadata": {},
   "outputs": [],
   "source": [
    "\n",
    "def standev(arr):\n",
    "    sum1=0\n",
    "    mean1=sum(arr)/len(arr)\n",
    "    for i in arr:\n",
    "        sum1+=(i-mean1)**2\n",
    "    result=np.sqrt(sum1/len(arr)-1)\n",
    "    return result\n",
    "\n"
   ]
  },
  {
   "cell_type": "code",
   "execution_count": 37,
   "id": "bb6afa1f",
   "metadata": {},
   "outputs": [],
   "source": [
    "standard=standev(arr)"
   ]
  },
  {
   "cell_type": "code",
   "execution_count": 38,
   "id": "108745ad",
   "metadata": {},
   "outputs": [
    {
     "name": "stdout",
     "output_type": "stream",
     "text": [
      "26.47210607413018\n"
     ]
    }
   ],
   "source": [
    "print(standard)"
   ]
  },
  {
   "cell_type": "code",
   "execution_count": 43,
   "id": "2fda845b",
   "metadata": {},
   "outputs": [],
   "source": [
    "#VARIANCE"
   ]
  },
  {
   "cell_type": "code",
   "execution_count": 46,
   "id": "216bd6ff",
   "metadata": {},
   "outputs": [],
   "source": [
    "def varian(arr):\n",
    "    sum1=0\n",
    "    mean1=sum(arr)/len(arr)\n",
    "    for i in arr:\n",
    "        sum1+=(i-mean1)**2\n",
    "    result=sum1/len(arr)-1\n",
    "    return result"
   ]
  },
  {
   "cell_type": "code",
   "execution_count": 47,
   "id": "c41e5094",
   "metadata": {},
   "outputs": [],
   "source": [
    "variance_result=varian(arr)"
   ]
  },
  {
   "cell_type": "code",
   "execution_count": 49,
   "id": "f038d5d0",
   "metadata": {},
   "outputs": [
    {
     "name": "stdout",
     "output_type": "stream",
     "text": [
      "700.7724\n"
     ]
    }
   ],
   "source": [
    "print(variance_result)"
   ]
  },
  {
   "cell_type": "code",
   "execution_count": 50,
   "id": "8c1cc462",
   "metadata": {},
   "outputs": [],
   "source": [
    "#NORMALIZATION"
   ]
  },
  {
   "cell_type": "code",
   "execution_count": 51,
   "id": "c43d6043",
   "metadata": {},
   "outputs": [],
   "source": [
    "def normali(arr):\n",
    "    r=[]\n",
    "    mi=min(arr)\n",
    "    ma=max(arr)\n",
    "    \n",
    "    for i in arr:\n",
    "        i=(i-mi)/(ma-mi)\n",
    "        r.append(i)\n",
    "    return arr,r"
   ]
  },
  {
   "cell_type": "code",
   "execution_count": 52,
   "id": "804a1236",
   "metadata": {},
   "outputs": [
    {
     "name": "stdout",
     "output_type": "stream",
     "text": [
      "([115.3, 195.5, 120.5, 110.2, 90.4, 105.6, 110.9, 116.3, 122.3, 125.4], [0.23691722169362506, 1.0, 0.2863939105613701, 0.18839200761179828, 0.0, 0.14462416745956222, 0.1950523311132255, 0.24643196955280677, 0.3035204567078972, 0.3330161750713606])\n"
     ]
    }
   ],
   "source": [
    "print(normali(arr))"
   ]
  },
  {
   "cell_type": "code",
   "execution_count": 53,
   "id": "478125c6",
   "metadata": {},
   "outputs": [],
   "source": [
    "#STANDARDIZATION"
   ]
  },
  {
   "cell_type": "code",
   "execution_count": 56,
   "id": "701e5513",
   "metadata": {},
   "outputs": [],
   "source": [
    "def standar(arr):\n",
    "    \n",
    "    st=standev(arr)\n",
    "    r=[]\n",
    "    m=mean(arr)\n",
    "    for i in arr:\n",
    "        i=(i-m)/st\n",
    "        r.append(i)\n",
    "    return arr,r"
   ]
  },
  {
   "cell_type": "code",
   "execution_count": 57,
   "id": "80022c28",
   "metadata": {},
   "outputs": [
    {
     "name": "stdout",
     "output_type": "stream",
     "text": [
      "([115.3, 195.5, 120.5, 110.2, 90.4, 105.6, 110.9, 116.3, 122.3, 125.4], [-0.008476361226555174, 0.10596878530033431, -0.001055977661220689, -0.015754045107940904, -0.044008582529791423, -0.02231823056958296, -0.01475514732029972, -0.0070493643870677735, 0.0015126166498566269, 0.005936306852267579])\n"
     ]
    }
   ],
   "source": [
    "print(standar(arr))"
   ]
  },
  {
   "cell_type": "code",
   "execution_count": null,
   "id": "15c2211c",
   "metadata": {},
   "outputs": [],
   "source": []
  }
 ],
 "metadata": {
  "kernelspec": {
   "display_name": "Python 3 (ipykernel)",
   "language": "python",
   "name": "python3"
  },
  "language_info": {
   "codemirror_mode": {
    "name": "ipython",
    "version": 3
   },
   "file_extension": ".py",
   "mimetype": "text/x-python",
   "name": "python",
   "nbconvert_exporter": "python",
   "pygments_lexer": "ipython3",
   "version": "3.9.7"
  }
 },
 "nbformat": 4,
 "nbformat_minor": 5
}
